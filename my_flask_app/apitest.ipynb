{
 "cells": [
  {
   "cell_type": "code",
   "execution_count": 1,
   "metadata": {},
   "outputs": [],
   "source": [
    "from googleapiclient.discovery import build\n",
    "import pandas as pd\n",
    "from dotenv import load_dotenv\n",
    "import os\n",
    "from datetime import datetime\n",
    "import re\n",
    "import isodate\n"
   ]
  },
  {
   "cell_type": "code",
   "execution_count": 2,
   "metadata": {},
   "outputs": [],
   "source": [
    "\n",
    "load_dotenv()\n",
    "localDevKey = os.getenv(\"DEVELOPER_KEY\")\n",
    "youtube_api = build('youtube', 'v3', developerKey=localDevKey)"
   ]
  },
  {
   "cell_type": "code",
   "execution_count": 5,
   "metadata": {},
   "outputs": [
    {
     "name": "stdout",
     "output_type": "stream",
     "text": [
      "{'kind': 'youtube#videoListResponse', 'etag': 'WH2dzNz6CUl24hOKx8eNSi2-tJk', 'items': [{'kind': 'youtube#video', 'etag': 'cXAeckGe6wcBRt3G0GDGK6_79TE', 'id': 'EuaRSgMrMb4', 'snippet': {'publishedAt': '2024-03-16T01:52:27Z', 'channelId': 'UCAqwmgeWwg8PIkO986UF4JA', 'title': 'When Soda and Mentos Works Together 😂🤣', 'description': '', 'thumbnails': {'default': {'url': 'https://i.ytimg.com/vi/EuaRSgMrMb4/default.jpg', 'width': 120, 'height': 90}, 'medium': {'url': 'https://i.ytimg.com/vi/EuaRSgMrMb4/mqdefault.jpg', 'width': 320, 'height': 180}, 'high': {'url': 'https://i.ytimg.com/vi/EuaRSgMrMb4/hqdefault.jpg', 'width': 480, 'height': 360}, 'standard': {'url': 'https://i.ytimg.com/vi/EuaRSgMrMb4/sddefault.jpg', 'width': 640, 'height': 480}, 'maxres': {'url': 'https://i.ytimg.com/vi/EuaRSgMrMb4/maxresdefault.jpg', 'width': 1280, 'height': 720}}, 'channelTitle': 'MOONTELLTHAT', 'categoryId': '24', 'liveBroadcastContent': 'none', 'localized': {'title': 'When Soda and Mentos Works Together 😂🤣', 'description': ''}, 'defaultAudioLanguage': 'en-US'}, 'contentDetails': {'duration': 'PT39S', 'dimension': '2d', 'definition': 'hd', 'caption': 'false', 'licensedContent': True, 'contentRating': {}, 'projection': 'rectangular'}, 'statistics': {'viewCount': '42499112', 'likeCount': '1000312', 'favoriteCount': '0', 'commentCount': '9159'}}], 'nextPageToken': 'CAEQAA', 'pageInfo': {'totalResults': 122, 'resultsPerPage': 1}}\n"
     ]
    }
   ],
   "source": [
    "request = youtube_api.videos().list(\n",
    "    part='snippet,statistics,contentDetails',  # Du kannst mehr Teile hinzufügen, je nach benötigten Informationen\n",
    "    chart='mostPopular',\n",
    "    regionCode='CH',  # Setze den Region-Code auf CH für die Schweiz\n",
    "    maxResults=1  # Anzahl der Ergebnisse, die zurückgegeben werden sollen (max. 50)\n",
    ")\n",
    "\n",
    "response = request.execute()\n",
    "\n",
    "print(response)\n"
   ]
  }
 ],
 "metadata": {
  "kernelspec": {
   "display_name": ".venv",
   "language": "python",
   "name": "python3"
  },
  "language_info": {
   "codemirror_mode": {
    "name": "ipython",
    "version": 3
   },
   "file_extension": ".py",
   "mimetype": "text/x-python",
   "name": "python",
   "nbconvert_exporter": "python",
   "pygments_lexer": "ipython3",
   "version": "3.12.1"
  }
 },
 "nbformat": 4,
 "nbformat_minor": 2
}
